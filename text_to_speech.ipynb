{
 "cells": [
  {
   "cell_type": "code",
   "execution_count": 14,
   "metadata": {},
   "outputs": [],
   "source": [
    "from google.cloud import texttospeech\n",
    "import pandas as pd\n",
    "import os\n",
    "import time"
   ]
  },
  {
   "cell_type": "code",
   "execution_count": null,
   "metadata": {},
   "outputs": [],
   "source": [
    "data_dir = 'data'\n",
    "\n",
    "save_dir = 'data/audio'\n",
    "df_path = 'data/dataframe.csv'\n",
    "\n",
    "if not os.path.exists(save_dir):\n",
    "    os.makedirs(save_dir)\n",
    "\n",
    "if not os.path.exists(df_path):\n",
    "    df = pd.DataFrame(columns=['text_hash', 'text', 'audio_file', 'synthesis_time', 'voice_name', 'speaking_rate', 'pitch'])\n",
    "else:\n",
    "    df = pd.read_csv(df_path)"
   ]
  },
  {
   "cell_type": "code",
   "execution_count": null,
   "metadata": {},
   "outputs": [],
   "source": [
    "VOICES = {\n",
    "    'it': {\n",
    "        'male': 'it-IT-Wavenet-D',\n",
    "        'female': 'it-IT-Wavenet-C',\n",
    "    },\n",
    "    'en': {\n",
    "        'male': 'en-US-Wavenet-D',\n",
    "        'female': 'en-US-Wavenet-C',\n",
    "    },\n",
    "}\n",
    "\n",
    "class TextToSpeech:\n",
    "\n",
    "    def __init__(self):\n",
    "        self.client = texttospeech.TextToSpeechClient()\n",
    "        self.voice = texttospeech.VoiceSelectionParams(language_code=\"it-IT\")\n",
    "        self.audio_config = texttospeech.AudioConfig(audio_encoding=texttospeech.AudioEncoding.MP3)\n",
    "\n",
    "    def synthesize(self, text, speaking_rate=0.75, voice_name=\"it-IT-Wavenet-D\", pitch=0):\n",
    "        self.voice.name = voice_name\n",
    "        self.audio_config.speaking_rate = speaking_rate\n",
    "        self.audio_config.pitch = pitch\n",
    "        synthesis_input = texttospeech.SynthesisInput(text=text)\n",
    "\n",
    "        # hash text\n",
    "        text_hash = hash(f\"{text}{voice_name}{speaking_rate}{pitch}\")\n",
    "\n",
    "        audio_file = f'{save_dir}/{text_hash}.mp3'\n",
    "\n",
    "        # check if text already exists\n",
    "        if df[df['text'] == text].shape[0] > 0:\n",
    "            s_df = df[df['text'] == text]\n",
    "            assert(s_df.shape[0] == 1)\n",
    "            row = s_df.iloc[0]\n",
    "            assert(row['text_hash'] == text_hash)\n",
    "            assert(row['audio_file'] == audio_file)\n",
    "\n",
    "        else:\n",
    "            print(\"synthesizing...\")\n",
    "            # Synthesize speech\n",
    "            t0 = time.perf_counter()\n",
    "            response = self.client.synthesize_speech(input=synthesis_input, voice=self.voice, audio_config=self.audio_config)\n",
    "            t1 = time.perf_counter()\n",
    "            synthesis_time = t1 - t0\n",
    "\n",
    "            # save audio\n",
    "            with open(audio_file, \"wb\") as out:\n",
    "                out.write(response.audio_content) \n",
    "\n",
    "            # store in dataframe\n",
    "            df.loc[df.shape[0]] = [text_hash, text, audio_file, synthesis_time, voice_name, speaking_rate, pitch]\n",
    "            row = df.iloc[-1]\n",
    "\n",
    "            # TODO: put this in destructor\n",
    "            df.to_csv(df_path, index=False)\n",
    "\n",
    "        return dict(row)"
   ]
  },
  {
   "cell_type": "code",
   "execution_count": 17,
   "metadata": {},
   "outputs": [],
   "source": [
    "tts = TextToSpeech()"
   ]
  },
  {
   "cell_type": "code",
   "execution_count": 18,
   "metadata": {},
   "outputs": [],
   "source": [
    "ret = tts.synthesize('Ciao, come stai?')"
   ]
  },
  {
   "cell_type": "code",
   "execution_count": 19,
   "metadata": {},
   "outputs": [
    {
     "data": {
      "text/plain": [
       "{'text_hash': np.int64(884650908637062659),\n",
       " 'text': 'Ciao, come stai?',\n",
       " 'audio_file': 'data/audio/884650908637062659.mp3',\n",
       " 'synthesis_time': np.float64(1.5108500929927686),\n",
       " 'voice_name': 'it-IT-Wavenet-D',\n",
       " 'speaking_rate': np.float64(0.75),\n",
       " 'pitch': np.int64(0)}"
      ]
     },
     "execution_count": 19,
     "metadata": {},
     "output_type": "execute_result"
    }
   ],
   "source": [
    "ret"
   ]
  },
  {
   "cell_type": "code",
   "execution_count": null,
   "metadata": {},
   "outputs": [],
   "source": []
  }
 ],
 "metadata": {
  "kernelspec": {
   "display_name": "venv",
   "language": "python",
   "name": "python3"
  },
  "language_info": {
   "codemirror_mode": {
    "name": "ipython",
    "version": 3
   },
   "file_extension": ".py",
   "mimetype": "text/x-python",
   "name": "python",
   "nbconvert_exporter": "python",
   "pygments_lexer": "ipython3",
   "version": "3.12.3"
  }
 },
 "nbformat": 4,
 "nbformat_minor": 2
}
