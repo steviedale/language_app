{
 "cells": [
  {
   "cell_type": "code",
   "execution_count": 1,
   "metadata": {},
   "outputs": [
    {
     "name": "stderr",
     "output_type": "stream",
     "text": [
      "/Users/stevie/repos/language_app/venv/lib/python3.9/site-packages/urllib3/__init__.py:35: NotOpenSSLWarning: urllib3 v2 only supports OpenSSL 1.1.1+, currently the 'ssl' module is compiled with 'LibreSSL 2.8.3'. See: https://github.com/urllib3/urllib3/issues/3020\n",
      "  warnings.warn(\n"
     ]
    }
   ],
   "source": [
    "from google.cloud import texttospeech\n",
    "import pandas as pd\n",
    "import os\n",
    "import time\n",
    "# for guid generation\n",
    "import uuid"
   ]
  },
  {
   "cell_type": "code",
   "execution_count": 2,
   "metadata": {},
   "outputs": [],
   "source": [
    "data_dir = 'data'\n",
    "\n",
    "save_dir = 'data/audio'\n",
    "df_path = 'data/dataframe.csv'\n",
    "\n",
    "if not os.path.exists(save_dir):\n",
    "    os.makedirs(save_dir)\n",
    "\n",
    "if not os.path.exists(df_path):\n",
    "    df = pd.DataFrame(columns=['text_hash', 'text', 'audio_file', 'synthesis_time', 'voice_name', 'speaking_rate', 'pitch'])\n",
    "else:\n",
    "    df = pd.read_csv(df_path)"
   ]
  },
  {
   "cell_type": "code",
   "execution_count": 3,
   "metadata": {},
   "outputs": [],
   "source": [
    "VOICES = {\n",
    "    'it': {\n",
    "        'male': 'it-IT-Wavenet-D',\n",
    "        'female': 'it-IT-Wavenet-C',\n",
    "    },\n",
    "    'en': {\n",
    "        'male': 'en-US-Wavenet-D',\n",
    "        'female': 'en-US-Wavenet-C',\n",
    "    },\n",
    "}\n",
    "\n",
    "class TextToSpeech:\n",
    "\n",
    "    def __init__(self):\n",
    "        self.client = texttospeech.TextToSpeechClient()\n",
    "        self.voice = texttospeech.VoiceSelectionParams(language_code=\"it-IT\")\n",
    "        self.audio_config = texttospeech.AudioConfig(audio_encoding=texttospeech.AudioEncoding.MP3)\n",
    "\n",
    "    def synthesize(self, text, speaking_rate=0.75, voice_name=\"it-IT-Wavenet-D\", pitch=0):\n",
    "        self.voice.name = voice_name\n",
    "        self.audio_config.speaking_rate = speaking_rate\n",
    "        self.audio_config.pitch = pitch\n",
    "        synthesis_input = texttospeech.SynthesisInput(text=text)\n",
    "\n",
    "        # hash text\n",
    "        guid = uuid.uuid5(uuid.NAMESPACE_DNS, str(hash(f\"{text}{voice_name}{speaking_rate:.2f}{pitch}\")))\n",
    "\n",
    "        audio_file = f'{save_dir}/{guid}.mp3'\n",
    "\n",
    "        # check if text already exists\n",
    "        if df[(df['text'] == text) & (df['speaking_rate'] == speaking_rate)].shape[0] > 0:\n",
    "            s_df = df[df['text'] == text]\n",
    "            assert(s_df.shape[0] == 1)\n",
    "            row = s_df.iloc[0]\n",
    "            assert(row['guid'] == guid)\n",
    "            assert(row['audio_file'] == audio_file)\n",
    "\n",
    "        else:\n",
    "            print(\"synthesizing...\")\n",
    "            # Synthesize speech\n",
    "            t0 = time.perf_counter()\n",
    "            response = self.client.synthesize_speech(input=synthesis_input, voice=self.voice, audio_config=self.audio_config)\n",
    "            t1 = time.perf_counter()\n",
    "            synthesis_time = t1 - t0\n",
    "\n",
    "            # save audio\n",
    "            with open(audio_file, \"wb\") as out:\n",
    "                out.write(response.audio_content) \n",
    "\n",
    "            # store in dataframe\n",
    "            df.loc[df.shape[0]] = [guid, text, audio_file, synthesis_time, voice_name, speaking_rate, pitch]\n",
    "            row = df.iloc[-1]\n",
    "\n",
    "            # TODO: put this in destructor\n",
    "            df.to_csv(df_path, index=False)\n",
    "\n",
    "        return dict(row)"
   ]
  },
  {
   "cell_type": "code",
   "execution_count": 4,
   "metadata": {},
   "outputs": [],
   "source": [
    "tts = TextToSpeech()"
   ]
  },
  {
   "cell_type": "code",
   "execution_count": 5,
   "metadata": {},
   "outputs": [
    {
     "name": "stdout",
     "output_type": "stream",
     "text": [
      "synthesizing...\n",
      "synthesizing...\n"
     ]
    }
   ],
   "source": [
    "phrase = 'Ciao, come stai?'\n",
    "ret = tts.synthesize(phrase, speaking_rate=0.5)\n",
    "ret = tts.synthesize(phrase, speaking_rate=0.75)"
   ]
  },
  {
   "cell_type": "code",
   "execution_count": 6,
   "metadata": {},
   "outputs": [
    {
     "name": "stdout",
     "output_type": "stream",
     "text": [
      "synthesizing...\n",
      "synthesizing...\n"
     ]
    }
   ],
   "source": [
    "phrase = 'Quello laggiù'\n",
    "ret = tts.synthesize(phrase, speaking_rate=0.5)\n",
    "ret = tts.synthesize(phrase, speaking_rate=0.75)"
   ]
  },
  {
   "cell_type": "code",
   "execution_count": 9,
   "metadata": {},
   "outputs": [
    {
     "name": "stdout",
     "output_type": "stream",
     "text": [
      "synthesizing...\n"
     ]
    }
   ],
   "source": [
    "phrase = 'vorrei un tavolo per due vicino alla finestra'\n",
    "# ret = tts.synthesize(phrase, speaking_rate=0.5)\n",
    "# ret = tts.synthesize(phrase, speaking_rate=0.75)\n",
    "ret = tts.synthesize(phrase, speaking_rate=0.7)"
   ]
  },
  {
   "cell_type": "code",
   "execution_count": 10,
   "metadata": {},
   "outputs": [
    {
     "data": {
      "text/html": [
       "<div>\n",
       "<style scoped>\n",
       "    .dataframe tbody tr th:only-of-type {\n",
       "        vertical-align: middle;\n",
       "    }\n",
       "\n",
       "    .dataframe tbody tr th {\n",
       "        vertical-align: top;\n",
       "    }\n",
       "\n",
       "    .dataframe thead th {\n",
       "        text-align: right;\n",
       "    }\n",
       "</style>\n",
       "<table border=\"1\" class=\"dataframe\">\n",
       "  <thead>\n",
       "    <tr style=\"text-align: right;\">\n",
       "      <th></th>\n",
       "      <th>text_hash</th>\n",
       "      <th>text</th>\n",
       "      <th>audio_file</th>\n",
       "      <th>synthesis_time</th>\n",
       "      <th>voice_name</th>\n",
       "      <th>speaking_rate</th>\n",
       "      <th>pitch</th>\n",
       "    </tr>\n",
       "  </thead>\n",
       "  <tbody>\n",
       "    <tr>\n",
       "      <th>0</th>\n",
       "      <td>3b078a08-8201-5eee-a5df-b19d0b4aebe1</td>\n",
       "      <td>Ciao, come stai?</td>\n",
       "      <td>data/audio/3b078a08-8201-5eee-a5df-b19d0b4aebe...</td>\n",
       "      <td>0.500140</td>\n",
       "      <td>it-IT-Wavenet-D</td>\n",
       "      <td>0.50</td>\n",
       "      <td>0</td>\n",
       "    </tr>\n",
       "    <tr>\n",
       "      <th>1</th>\n",
       "      <td>65ab337b-94fb-53b2-8309-597130861e84</td>\n",
       "      <td>Ciao, come stai?</td>\n",
       "      <td>data/audio/65ab337b-94fb-53b2-8309-597130861e8...</td>\n",
       "      <td>0.297484</td>\n",
       "      <td>it-IT-Wavenet-D</td>\n",
       "      <td>0.75</td>\n",
       "      <td>0</td>\n",
       "    </tr>\n",
       "    <tr>\n",
       "      <th>2</th>\n",
       "      <td>8483293a-b41c-5a43-b594-5113e626fc0a</td>\n",
       "      <td>Quello laggiù</td>\n",
       "      <td>data/audio/8483293a-b41c-5a43-b594-5113e626fc0...</td>\n",
       "      <td>0.195614</td>\n",
       "      <td>it-IT-Wavenet-D</td>\n",
       "      <td>0.50</td>\n",
       "      <td>0</td>\n",
       "    </tr>\n",
       "    <tr>\n",
       "      <th>3</th>\n",
       "      <td>f8de8966-2730-5b0d-9e70-744d0c84ebee</td>\n",
       "      <td>Quello laggiù</td>\n",
       "      <td>data/audio/f8de8966-2730-5b0d-9e70-744d0c84ebe...</td>\n",
       "      <td>0.390596</td>\n",
       "      <td>it-IT-Wavenet-D</td>\n",
       "      <td>0.75</td>\n",
       "      <td>0</td>\n",
       "    </tr>\n",
       "    <tr>\n",
       "      <th>4</th>\n",
       "      <td>67e7fafa-f2c8-5a94-be40-17c51baf648a</td>\n",
       "      <td>vorrei un tavolo per due vicino alla finestra</td>\n",
       "      <td>data/audio/67e7fafa-f2c8-5a94-be40-17c51baf648...</td>\n",
       "      <td>0.210947</td>\n",
       "      <td>it-IT-Wavenet-D</td>\n",
       "      <td>0.50</td>\n",
       "      <td>0</td>\n",
       "    </tr>\n",
       "    <tr>\n",
       "      <th>5</th>\n",
       "      <td>392634f3-e8a9-5570-b37b-6f984cb7015e</td>\n",
       "      <td>vorrei un tavolo per due vicino alla finestra</td>\n",
       "      <td>data/audio/392634f3-e8a9-5570-b37b-6f984cb7015...</td>\n",
       "      <td>0.255181</td>\n",
       "      <td>it-IT-Wavenet-D</td>\n",
       "      <td>0.75</td>\n",
       "      <td>0</td>\n",
       "    </tr>\n",
       "    <tr>\n",
       "      <th>6</th>\n",
       "      <td>69b1616c-ae79-5a21-a4a1-abd1bacc1aed</td>\n",
       "      <td>vorrei un tavolo per due vicino alla finestra</td>\n",
       "      <td>data/audio/69b1616c-ae79-5a21-a4a1-abd1bacc1ae...</td>\n",
       "      <td>0.350979</td>\n",
       "      <td>it-IT-Wavenet-D</td>\n",
       "      <td>0.70</td>\n",
       "      <td>0</td>\n",
       "    </tr>\n",
       "  </tbody>\n",
       "</table>\n",
       "</div>"
      ],
      "text/plain": [
       "                              text_hash  \\\n",
       "0  3b078a08-8201-5eee-a5df-b19d0b4aebe1   \n",
       "1  65ab337b-94fb-53b2-8309-597130861e84   \n",
       "2  8483293a-b41c-5a43-b594-5113e626fc0a   \n",
       "3  f8de8966-2730-5b0d-9e70-744d0c84ebee   \n",
       "4  67e7fafa-f2c8-5a94-be40-17c51baf648a   \n",
       "5  392634f3-e8a9-5570-b37b-6f984cb7015e   \n",
       "6  69b1616c-ae79-5a21-a4a1-abd1bacc1aed   \n",
       "\n",
       "                                            text  \\\n",
       "0                               Ciao, come stai?   \n",
       "1                               Ciao, come stai?   \n",
       "2                                  Quello laggiù   \n",
       "3                                  Quello laggiù   \n",
       "4  vorrei un tavolo per due vicino alla finestra   \n",
       "5  vorrei un tavolo per due vicino alla finestra   \n",
       "6  vorrei un tavolo per due vicino alla finestra   \n",
       "\n",
       "                                          audio_file  synthesis_time  \\\n",
       "0  data/audio/3b078a08-8201-5eee-a5df-b19d0b4aebe...        0.500140   \n",
       "1  data/audio/65ab337b-94fb-53b2-8309-597130861e8...        0.297484   \n",
       "2  data/audio/8483293a-b41c-5a43-b594-5113e626fc0...        0.195614   \n",
       "3  data/audio/f8de8966-2730-5b0d-9e70-744d0c84ebe...        0.390596   \n",
       "4  data/audio/67e7fafa-f2c8-5a94-be40-17c51baf648...        0.210947   \n",
       "5  data/audio/392634f3-e8a9-5570-b37b-6f984cb7015...        0.255181   \n",
       "6  data/audio/69b1616c-ae79-5a21-a4a1-abd1bacc1ae...        0.350979   \n",
       "\n",
       "        voice_name  speaking_rate  pitch  \n",
       "0  it-IT-Wavenet-D           0.50      0  \n",
       "1  it-IT-Wavenet-D           0.75      0  \n",
       "2  it-IT-Wavenet-D           0.50      0  \n",
       "3  it-IT-Wavenet-D           0.75      0  \n",
       "4  it-IT-Wavenet-D           0.50      0  \n",
       "5  it-IT-Wavenet-D           0.75      0  \n",
       "6  it-IT-Wavenet-D           0.70      0  "
      ]
     },
     "execution_count": 10,
     "metadata": {},
     "output_type": "execute_result"
    }
   ],
   "source": [
    "df"
   ]
  },
  {
   "cell_type": "code",
   "execution_count": null,
   "metadata": {},
   "outputs": [],
   "source": []
  }
 ],
 "metadata": {
  "kernelspec": {
   "display_name": "venv",
   "language": "python",
   "name": "python3"
  },
  "language_info": {
   "codemirror_mode": {
    "name": "ipython",
    "version": 3
   },
   "file_extension": ".py",
   "mimetype": "text/x-python",
   "name": "python",
   "nbconvert_exporter": "python",
   "pygments_lexer": "ipython3",
   "version": "3.9.6"
  }
 },
 "nbformat": 4,
 "nbformat_minor": 2
}
