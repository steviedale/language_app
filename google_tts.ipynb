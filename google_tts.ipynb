{
 "cells": [
  {
   "cell_type": "code",
   "execution_count": null,
   "metadata": {},
   "outputs": [],
   "source": [
    "from google.cloud import texttospeech\n",
    "\n",
    "\n",
    "\n",
    "# Create a Text-to-Speech client\n",
    "\n",
    "client = texttospeech.TextToSpeechClient()\n",
    "\n",
    "\n",
    "\n",
    "# Set the text input\n",
    "\n",
    "synthesis_input = texttospeech.SynthesisInput(text=\"a che ora parte il treno per milano?\")  \n",
    "\n",
    "\n",
    "\n",
    "# Select the Italian voice\n",
    "\n",
    "voice = texttospeech.VoiceSelectionParams(language_code=\"it-IT\")  \n",
    "\n",
    "# change voice to man\n",
    "voice.name = \"it-IT-Wavenet-D\"\n",
    "\n",
    "\n",
    "\n",
    "# Configure audio output\n",
    "\n",
    "audio_config = texttospeech.AudioConfig(audio_encoding=texttospeech.AudioEncoding.MP3)\n",
    "\n",
    "# set speaking rate\n",
    "audio_config.speaking_rate = 0.75\n",
    "\n",
    "\n",
    "# Synthesize speech\n",
    "\n",
    "response = client.synthesize_speech(input=synthesis_input, voice=voice, audio_config=audio_config)\n",
    "\n",
    "\n",
    "\n",
    "# Write the audio content to a file\n",
    "\n",
    "with open(\"output.mp3\", \"wb\") as out:\n",
    "\n",
    "    out.write(response.audio_content) "
   ]
  },
  {
   "cell_type": "code",
   "execution_count": null,
   "metadata": {},
   "outputs": [],
   "source": []
  }
 ],
 "metadata": {
  "kernelspec": {
   "display_name": "venv",
   "language": "python",
   "name": "python3"
  },
  "language_info": {
   "codemirror_mode": {
    "name": "ipython",
    "version": 3
   },
   "file_extension": ".py",
   "mimetype": "text/x-python",
   "name": "python",
   "nbconvert_exporter": "python",
   "pygments_lexer": "ipython3",
   "version": "3.12.3"
  }
 },
 "nbformat": 4,
 "nbformat_minor": 2
}
