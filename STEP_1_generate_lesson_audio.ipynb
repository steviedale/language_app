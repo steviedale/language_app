{
 "cells": [
  {
   "cell_type": "code",
   "execution_count": 8,
   "metadata": {},
   "outputs": [],
   "source": [
    "from utils.text_to_speech import TextToSpeech, VOICES\n",
    "import os\n",
    "import pandas as pd\n",
    "from tqdm import tqdm\n",
    "import yaml"
   ]
  },
  {
   "cell_type": "code",
   "execution_count": 9,
   "metadata": {},
   "outputs": [
    {
     "name": "stdout",
     "output_type": "stream",
     "text": [
      "lesson_13_at_the_restaurant\n"
     ]
    }
   ],
   "source": [
    "LESSON = yaml.safe_load(open(\"STEP_0_define_lesson.yaml\", \"r\"))['lesson']\n",
    "print(LESSON)"
   ]
  },
  {
   "cell_type": "code",
   "execution_count": 10,
   "metadata": {},
   "outputs": [],
   "source": [
    "# first create a dataframe for the text\n",
    "df = pd.read_csv(f\"language_notes/spotify_lesssons/{LESSON}/transcript.csv\")"
   ]
  },
  {
   "cell_type": "code",
   "execution_count": 11,
   "metadata": {},
   "outputs": [
    {
     "data": {
      "text/plain": [
       "(33, Index(['english', 'italian'], dtype='object'))"
      ]
     },
     "execution_count": 11,
     "metadata": {},
     "output_type": "execute_result"
    }
   ],
   "source": [
    "len(df), df.columns"
   ]
  },
  {
   "cell_type": "code",
   "execution_count": 12,
   "metadata": {},
   "outputs": [
    {
     "name": "stdout",
     "output_type": "stream",
     "text": [
      "Dataframe saved to data/dataframe.csv\n"
     ]
    }
   ],
   "source": [
    "tts = TextToSpeech()"
   ]
  },
  {
   "cell_type": "code",
   "execution_count": 13,
   "metadata": {},
   "outputs": [
    {
     "name": "stderr",
     "output_type": "stream",
     "text": [
      "100%|██████████| 33/33 [00:00<00:00, 473.70it/s]\n"
     ]
    }
   ],
   "source": [
    "json_obj = []\n",
    "dataframe = pd.DataFrame()\n",
    "for i, row in tqdm(df.iterrows(), total=len(df)):\n",
    "    obj = {}\n",
    "    for lang in 'english', 'italian':\n",
    "        obj[lang] = {\n",
    "            \"text\": row[lang],\n",
    "        }\n",
    "        synth_obj = tts.synthesize(\n",
    "            text=row[lang],\n",
    "            voice_name=VOICES[lang]['male'],\n",
    "            speaking_rate=0.75 if lang == 'italian' else 1.0,\n",
    "            pitch=0,\n",
    "            verbose=False,\n",
    "        )\n",
    "        obj[lang]['hash'] = synth_obj['hash']\n",
    "        obj[lang]['audio_file'] = synth_obj['audio_file']\n",
    "        obj[lang]['voice_name'] = synth_obj['voice_name']\n",
    "        obj[lang]['speaking_rate'] = synth_obj['speaking_rate']\n",
    "        obj[lang]['pitch'] = synth_obj['pitch']\n",
    "\n",
    "    json_obj.append(obj)"
   ]
  },
  {
   "cell_type": "code",
   "execution_count": 14,
   "metadata": {},
   "outputs": [],
   "source": [
    "import json\n",
    "json.dump(\n",
    "    json_obj,\n",
    "    open(f\"language_notes/spotify_lesssons/{LESSON}/data.json\", \"w\"),\n",
    "    indent=2,\n",
    "    ensure_ascii=False,\n",
    ")"
   ]
  },
  {
   "cell_type": "code",
   "execution_count": null,
   "metadata": {},
   "outputs": [],
   "source": []
  }
 ],
 "metadata": {
  "kernelspec": {
   "display_name": "venv",
   "language": "python",
   "name": "python3"
  },
  "language_info": {
   "codemirror_mode": {
    "name": "ipython",
    "version": 3
   },
   "file_extension": ".py",
   "mimetype": "text/x-python",
   "name": "python",
   "nbconvert_exporter": "python",
   "pygments_lexer": "ipython3",
   "version": "3.9.6"
  }
 },
 "nbformat": 4,
 "nbformat_minor": 2
}
