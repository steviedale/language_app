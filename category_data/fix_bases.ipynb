{
 "cells": [
  {
   "cell_type": "code",
   "execution_count": null,
   "metadata": {},
   "outputs": [],
   "source": [
    "import os\n",
    "import pandas as pd\n",
    "import numpy as np"
   ]
  },
  {
   "cell_type": "code",
   "execution_count": null,
   "metadata": {},
   "outputs": [],
   "source": [
    "df = pd.read_csv('combined_with_base_v3.csv')\n",
    "len(df), df.columns"
   ]
  },
  {
   "cell_type": "code",
   "execution_count": null,
   "metadata": {},
   "outputs": [],
   "source": [
    "def fix_english(x):\n",
    "    if x.startswith('the '):\n",
    "        return x[4:]\n",
    "    if x.startswith('The '):\n",
    "        return x[4:]\n",
    "    if x.startswith('a '):\n",
    "        return x[2:]\n",
    "    if x.startswith('A '):\n",
    "        return x[2:]\n",
    "    if x.startswith('an '):\n",
    "        return x[3:]\n",
    "    if x.startswith('An '):\n",
    "        return x[3:]\n",
    "    return x\n",
    "df['english_simple'] = df['english'].apply(fix_english)"
   ]
  },
  {
   "cell_type": "code",
   "execution_count": null,
   "metadata": {},
   "outputs": [],
   "source": [
    "for word_en in df['english_simple'].unique():\n",
    "    temp = df[df['english_simple'] == word_en]\n",
    "    if len(temp['base_word'].unique()) > 1:\n",
    "        if 'masculine' in list(temp['gender'].values):\n",
    "            temp = temp[temp['gender'] == 'masculine']\n",
    "        elif 'feminine' in list(temp['gender'].values):\n",
    "            temp = temp[temp['gender'] == 'feminine']\n",
    "        if 'singular' in list(temp['singular_plural'].values):\n",
    "            temp = temp[temp['singular_plural'] == 'singular']\n",
    "        if len(temp) == 1:\n",
    "            df.loc[df['english_simple'] == word_en, 'base_word'] = temp['base_word'].values[0]\n",
    "        else:\n",
    "            print(f\"Multiple base words for {word_en}: {temp['base_word'].unique()}\")"
   ]
  },
  {
   "cell_type": "code",
   "execution_count": null,
   "metadata": {},
   "outputs": [],
   "source": [
    "df.to_csv('combined.csv', index=False)"
   ]
  },
  {
   "cell_type": "code",
   "execution_count": null,
   "metadata": {},
   "outputs": [],
   "source": [
    "df = pd.read_csv('combined.csv')\n",
    "df.drop(columns=['english_simple'], inplace=True)\n",
    "df.to_csv('combined.csv', index=False)"
   ]
  },
  {
   "cell_type": "code",
   "execution_count": null,
   "metadata": {},
   "outputs": [],
   "source": []
  }
 ],
 "metadata": {
  "kernelspec": {
   "display_name": "venv",
   "language": "python",
   "name": "python3"
  },
  "language_info": {
   "codemirror_mode": {
    "name": "ipython",
    "version": 3
   },
   "file_extension": ".py",
   "mimetype": "text/x-python",
   "name": "python",
   "nbconvert_exporter": "python",
   "pygments_lexer": "ipython3",
   "version": "3.9.6"
  }
 },
 "nbformat": 4,
 "nbformat_minor": 2
}
