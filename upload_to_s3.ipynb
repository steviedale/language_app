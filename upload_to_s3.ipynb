{
 "cells": [
  {
   "cell_type": "code",
   "execution_count": null,
   "metadata": {},
   "outputs": [],
   "source": [
    "import boto3\n",
    "from botocore.exceptions import ClientError\n",
    "import logging\n",
    "import os"
   ]
  },
  {
   "cell_type": "code",
   "execution_count": null,
   "metadata": {},
   "outputs": [],
   "source": [
    "def upload_file(file_path):\n",
    "    \n",
    "    \"\"\"Upload a file to an S3 bucket\n",
    "\n",
    "    :param file_path: File to upload\n",
    "    :return: True if file was uploaded, else False\n",
    "    \"\"\"\n",
    "\n",
    "    bucket = 'steviedale-language-app' # Replace with your S3 bucket name\n",
    "    object_name = os.path.basename(file_path)\n",
    "\n",
    "    s3_client = boto3.client('s3')\n",
    "    try:\n",
    "        s3_client.upload_file(file_path, bucket, object_name)\n",
    "    except ClientError as e:\n",
    "        logging.error(e)\n",
    "        return False\n",
    "    return True"
   ]
  },
  {
   "cell_type": "code",
   "execution_count": 6,
   "metadata": {},
   "outputs": [
    {
     "name": "stdout",
     "output_type": "stream",
     "text": [
      "File data/audio/0b6fb2135b6917b5cb16ee82560fe7db8e6586270b2d522f6f45a43a2d38b199.mp3 uploaded to steviedale-language-app/0b6fb2135b6917b5cb16ee82560fe7db8e6586270b2d522f6f45a43a2d38b199.mp3\n"
     ]
    }
   ],
   "source": [
    "# Example Usage\n",
    "# file_to_upload = '/Users/stevie/repos/language_app/data/audio/0a1d962ddc7119fc244fdc695d07d2bdc8f3ea6aedd468e9372cfc6fecc7270e.mp3'  # Replace with your local file path\n",
    "file_to_upload = 'data/audio/0b6fb2135b6917b5cb16ee82560fe7db8e6586270b2d522f6f45a43a2d38b199.mp3'  # Replace with your local file path\n",
    "s3_bucket_name = 'steviedale-language-app' # Replace with your S3 bucket name\n",
    "s3_object_key = '0b6fb2135b6917b5cb16ee82560fe7db8e6586270b2d522f6f45a43a2d38b199.mp3'\n",
    "\n",
    "if upload_file(file_to_upload, s3_bucket_name, s3_object_key):\n",
    "    print(f\"File {file_to_upload} uploaded to {s3_bucket_name}/{s3_object_key}\")\n",
    "else:\n",
    "    print(f\"File upload failed for {file_to_upload}\")"
   ]
  },
  {
   "cell_type": "code",
   "execution_count": null,
   "metadata": {},
   "outputs": [],
   "source": []
  }
 ],
 "metadata": {
  "kernelspec": {
   "display_name": "venv",
   "language": "python",
   "name": "python3"
  },
  "language_info": {
   "codemirror_mode": {
    "name": "ipython",
    "version": 3
   },
   "file_extension": ".py",
   "mimetype": "text/x-python",
   "name": "python",
   "nbconvert_exporter": "python",
   "pygments_lexer": "ipython3",
   "version": "3.9.6"
  }
 },
 "nbformat": 4,
 "nbformat_minor": 2
}
