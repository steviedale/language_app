{
 "cells": [
  {
   "cell_type": "code",
   "execution_count": null,
   "metadata": {},
   "outputs": [],
   "source": [
    "import os\n",
    "import shutil\n",
    "import pandas as pd\n",
    "from tqdm import tqdm\n",
    "import json\n",
    "from pydub import AudioSegment\n",
    "from utils.text_to_speech import TextToSpeech, VOICES"
   ]
  },
  {
   "cell_type": "code",
   "execution_count": null,
   "metadata": {},
   "outputs": [],
   "source": [
    "# LESSON = 'lesson_1_basics'\n",
    "# LESSON = 'lesson_2_basic_phrases'\n",
    "# LESSON = 'lesson_3_transportation_nouns'\n",
    "# LESSON = 'lesson_4_transportation_phrases'\n",
    "# LESSON = 'lesson_5_money'\n",
    "# LESSON = 'lesson_6_hotel'\n",
    "# LESSON = 'lesson_7_important_words'\n",
    "# LESSON = 'lesson_8_directions'\n",
    "# LESSON = 'lesson_9_numbers'\n",
    "# LESSON = 'lesson_10_more_numbers'\n",
    "# LESSON = 'lesson_11_big_numbers'\n",
    "# LESSON = 'lesson_12_very_big_numbers'\n",
    "# LESSON = 'lesson_13_at_the_restaurant'\n",
    "# LESSON = 'lesson_14_shopping'\n",
    "# LESSON = 'lesson_15_time_general'\n",
    "# LESSON = 'lesson_16_time_of_day'\n",
    "# LESSON = 'lesson_17_questions'\n",
    "# LESSON = 'lesson_18_shops'\n",
    "# LESSON = 'lesson_19_nouns'\n",
    "LESSON = 'lesson_20_adjectives_and_adverbs'\n",
    "print(LESSON)\n",
    "\n",
    "SILENCE_RATE = 2"
   ]
  },
  {
   "cell_type": "code",
   "execution_count": null,
   "metadata": {},
   "outputs": [],
   "source": [
    "# first create a dataframe for the text\n",
    "df = pd.read_csv(f\"language_notes/spotify_lessons/{LESSON}/transcript.csv\")"
   ]
  },
  {
   "cell_type": "code",
   "execution_count": null,
   "metadata": {},
   "outputs": [],
   "source": [
    "len(df), df.columns"
   ]
  },
  {
   "cell_type": "code",
   "execution_count": null,
   "metadata": {},
   "outputs": [],
   "source": [
    "tts = TextToSpeech()"
   ]
  },
  {
   "cell_type": "code",
   "execution_count": null,
   "metadata": {},
   "outputs": [],
   "source": [
    "json_obj = []\n",
    "dataframe = pd.DataFrame()\n",
    "for i, row in tqdm(df.iterrows(), total=len(df)):\n",
    "    obj = {}\n",
    "    for lang in 'english', 'italian':\n",
    "        obj[lang] = {\n",
    "            \"text\": row[lang],\n",
    "        }\n",
    "        try:\n",
    "            synth_obj = tts.synthesize(\n",
    "                text=row[lang],\n",
    "                voice_name=VOICES[lang]['male'],\n",
    "                speaking_rate=0.75 if lang == 'italian' else 1.0,\n",
    "                pitch=0,\n",
    "                verbose=False,\n",
    "            )\n",
    "        except Exception as e:\n",
    "            print(row)\n",
    "            print(e)\n",
    "            raise e\n",
    "        obj[lang]['hash'] = synth_obj['hash']\n",
    "        obj[lang]['audio_file'] = synth_obj['audio_file']\n",
    "        obj[lang]['voice_name'] = synth_obj['voice_name']\n",
    "        obj[lang]['speaking_rate'] = synth_obj['speaking_rate']\n",
    "        obj[lang]['pitch'] = synth_obj['pitch']\n",
    "\n",
    "    json_obj.append(obj)"
   ]
  },
  {
   "cell_type": "code",
   "execution_count": null,
   "metadata": {},
   "outputs": [],
   "source": [
    "json.dump(\n",
    "    json_obj,\n",
    "    open(f\"language_notes/spotify_lessons/{LESSON}/data.json\", \"w\"),\n",
    "    indent=2,\n",
    "    ensure_ascii=False,\n",
    ")"
   ]
  },
  {
   "cell_type": "code",
   "execution_count": null,
   "metadata": {},
   "outputs": [],
   "source": [
    "data = json.load(open(f'language_notes/spotify_lessons/{LESSON}/data.json'))"
   ]
  },
  {
   "cell_type": "code",
   "execution_count": null,
   "metadata": {},
   "outputs": [],
   "source": [
    "def get_duration(path):\n",
    "    try:\n",
    "        audio = AudioSegment.from_file(path)  # Replace with your file path\n",
    "        duration_seconds = audio.duration_seconds\n",
    "        return duration_seconds\n",
    "    except Exception as e:\n",
    "        print(f\"Error reading audio file: {e}\")\n",
    "        return None"
   ]
  },
  {
   "cell_type": "code",
   "execution_count": null,
   "metadata": {},
   "outputs": [],
   "source": [
    "for sample_i, sample_obj in tqdm(enumerate(data), total=len(data)):\n",
    "    for lang in 'english', 'italian':\n",
    "        path = sample_obj[lang]['audio_file']\n",
    "        assert(os.path.exists(path))\n",
    "        duration = get_duration(path) \n",
    "        data[sample_i][lang]['duration_ms'] = int(duration * 1000)"
   ]
  },
  {
   "cell_type": "code",
   "execution_count": null,
   "metadata": {},
   "outputs": [],
   "source": [
    "def combine_audio_files(input_paths, output_path):\n",
    "    combined_audio = None\n",
    "    for path in input_paths:\n",
    "        if combined_audio is None:\n",
    "            combined_audio = AudioSegment.from_file(path)\n",
    "        else:\n",
    "            combined_audio += AudioSegment.from_file(path)\n",
    "    combined_audio.export(output_path, format=\"mp3\")"
   ]
  },
  {
   "cell_type": "code",
   "execution_count": null,
   "metadata": {},
   "outputs": [],
   "source": [
    "for sample_i, sample_obj in tqdm(enumerate(data), total=len(data)):\n",
    "    english_path = sample_obj['english']['audio_file']\n",
    "    italian_path = sample_obj['italian']['audio_file']\n",
    "    italian_duration = sample_obj['italian']['duration_ms']\n",
    "    silence_duration = int(((italian_duration * SILENCE_RATE) // 100) * 100)\n",
    "    silence_path = f'data/audio/silence/{silence_duration}ms.mp3'\n",
    "    assert os.path.exists(silence_path), f\"Silence file {silence_path} does not exist.\"\n",
    "    combined_audio_path = f'language_notes/spotify_lessons/{LESSON}/audio/{sample_i}.mp3'\n",
    "    os.makedirs(os.path.dirname(combined_audio_path), exist_ok=True)\n",
    "    audio_files = [english_path, silence_path, italian_path, silence_path, italian_path, silence_path]\n",
    "    if not os.path.exists(combined_audio_path):\n",
    "        combine_audio_files(audio_files, combined_audio_path)\n",
    "    else:\n",
    "        print(f\"Skipping {combined_audio_path} as it already exists.\")\n",
    "    data[sample_i]['combined_audio_file'] = combined_audio_path"
   ]
  },
  {
   "cell_type": "code",
   "execution_count": null,
   "metadata": {},
   "outputs": [],
   "source": [
    "json.dump(data, open(f'language_notes/spotify_lessons/{LESSON}/data.json', 'w'), indent=2, ensure_ascii=False)"
   ]
  },
  {
   "cell_type": "code",
   "execution_count": null,
   "metadata": {},
   "outputs": [],
   "source": [
    "REPO_DIR = '/Users/stevie/repos/language_app'\n",
    "assert(os.path.exists(REPO_DIR))\n",
    "\n",
    "DEST_DIR = os.path.join('/Users/stevie/repos/language-app-frontend/assets/lessons', LESSON)\n",
    "if not os.path.exists(DEST_DIR):\n",
    "    os.mkdir(DEST_DIR)"
   ]
  },
  {
   "cell_type": "code",
   "execution_count": null,
   "metadata": {},
   "outputs": [],
   "source": [
    "json_path = os.path.join(REPO_DIR, f'language_notes/spotify_lessons/{LESSON}/data.json')\n",
    "data = json.load(open(json_path))"
   ]
  },
  {
   "cell_type": "code",
   "execution_count": null,
   "metadata": {},
   "outputs": [],
   "source": [
    "path_rel = data[0]['combined_audio_file']\n",
    "assert(os.path.exists(os.path.join(REPO_DIR, path_rel)))\n",
    "# print(os.path.join(DEST_DIR, path_rel))\n",
    "print(path_rel)"
   ]
  },
  {
   "cell_type": "code",
   "execution_count": null,
   "metadata": {},
   "outputs": [],
   "source": [
    "for sample_i, sample_obj in tqdm(enumerate(data), total=len(data)):\n",
    "    # combined audio file\n",
    "    path = os.path.join(REPO_DIR, sample_obj['combined_audio_file'])\n",
    "    assert(os.path.exists(path))\n",
    "    rel_new_path = f'./audio/combined/{os.path.basename(path)}'\n",
    "    new_path = os.path.join(DEST_DIR, rel_new_path)\n",
    "    os.makedirs(os.path.dirname(new_path), exist_ok=True)\n",
    "    if not os.path.exists(new_path):\n",
    "        shutil.copyfile(path, new_path)\n",
    "    path_str = f'require(\"{rel_new_path}\"):::'\n",
    "    data[sample_i]['combined_audio_file'] = path_str\n",
    "\n",
    "    # individual audio files\n",
    "    for language in 'english', 'italian':\n",
    "        path = os.path.join(REPO_DIR, sample_obj[language]['audio_file'])\n",
    "        assert(os.path.exists(path))\n",
    "        rel_new_path = f'./audio/individual/{os.path.basename(path)}'\n",
    "        new_path = os.path.join(DEST_DIR, rel_new_path)\n",
    "        os.makedirs(os.path.dirname(new_path), exist_ok=True)\n",
    "        if not os.path.exists(new_path):\n",
    "            shutil.copyfile(path, new_path)\n",
    "        path_str = f'require(\"{rel_new_path}\"):::'\n",
    "        data[sample_i][language]['audio_file'] = path_str"
   ]
  },
  {
   "cell_type": "code",
   "execution_count": null,
   "metadata": {},
   "outputs": [],
   "source": [
    "js_path = os.path.join(REPO_DIR, f'language_notes/spotify_lessons/{LESSON}/data.js')\n",
    "json.dump(data, open(js_path, 'w'), indent=2, ensure_ascii=False)\n",
    "text = open(js_path).read()\n",
    "text = text.replace('\\\\\"', '\"')\n",
    "text = f\"samples = {text}\"\n",
    "text = text.replace('\"require', 'require').replace(':::\"', '')\n",
    "text += ';\\nexport default samples;'\n",
    "open(js_path, 'w').write(text)"
   ]
  },
  {
   "cell_type": "code",
   "execution_count": null,
   "metadata": {},
   "outputs": [],
   "source": [
    "old_js_path = os.path.join(REPO_DIR, f'language_notes/spotify_lessons/{LESSON}/data.js')\n",
    "new_js_path = os.path.join(DEST_DIR, 'data.js')\n",
    "shutil.copyfile(old_js_path, new_js_path)\n",
    "\n",
    "old_json_path = os.path.join(REPO_DIR, f'language_notes/spotify_lessons/{LESSON}/data.json')\n",
    "new_json_path = os.path.join(DEST_DIR, 'data.json')\n",
    "shutil.copyfile(old_json_path, new_json_path)\n",
    "\n",
    "old_csv_path = os.path.join(REPO_DIR, f'language_notes/spotify_lessons/{LESSON}/transcript.csv')\n",
    "new_csv_path = os.path.join(DEST_DIR, 'transcript.csv')\n",
    "shutil.copyfile(old_csv_path, new_csv_path)"
   ]
  },
  {
   "cell_type": "code",
   "execution_count": null,
   "metadata": {},
   "outputs": [],
   "source": []
  }
 ],
 "metadata": {
  "kernelspec": {
   "display_name": "venv",
   "language": "python",
   "name": "python3"
  },
  "language_info": {
   "codemirror_mode": {
    "name": "ipython",
    "version": 3
   },
   "file_extension": ".py",
   "mimetype": "text/x-python",
   "name": "python",
   "nbconvert_exporter": "python",
   "pygments_lexer": "ipython3",
   "version": "3.9.6"
  }
 },
 "nbformat": 4,
 "nbformat_minor": 2
}
