{
 "cells": [
  {
   "cell_type": "code",
   "execution_count": null,
   "metadata": {},
   "outputs": [],
   "source": [
    "from utils.text_to_speech import TextToSpeech, VOICES\n",
    "import os\n",
    "import pandas as pd\n",
    "from tqdm import tqdm\n",
    "import yaml"
   ]
  },
  {
   "cell_type": "code",
   "execution_count": null,
   "metadata": {},
   "outputs": [],
   "source": [
    "CATEGORY = yaml.safe_load(open(\"STEP_0_define_category_sub_category.yaml\", \"r\"))['category']\n",
    "SUB_CATEGORY = yaml.safe_load(open(\"STEP_0_define_category_sub_category.yaml\", \"r\"))['sub_category']\n",
    "print(f\"Category: {CATEGORY}\")\n",
    "print(f\"Sub Category: {SUB_CATEGORY}\")"
   ]
  },
  {
   "cell_type": "code",
   "execution_count": null,
   "metadata": {},
   "outputs": [],
   "source": [
    "# first create a dataframe for the text\n",
    "df = pd.read_csv(f\"category_data/individual_dataframes/{CATEGORY}_{SUB_CATEGORY}.csv\")"
   ]
  },
  {
   "cell_type": "code",
   "execution_count": null,
   "metadata": {},
   "outputs": [],
   "source": [
    "len(df), df.columns"
   ]
  },
  {
   "cell_type": "code",
   "execution_count": null,
   "metadata": {},
   "outputs": [],
   "source": [
    "tts = TextToSpeech()"
   ]
  },
  {
   "cell_type": "code",
   "execution_count": null,
   "metadata": {},
   "outputs": [],
   "source": [
    "json_obj = []\n",
    "for i, row in tqdm(df.iterrows(), total=len(df)):\n",
    "    obj = {}\n",
    "    for lang in 'english', 'italian':\n",
    "        obj[lang] = {\n",
    "            \"text\": row[lang],\n",
    "        }\n",
    "        synth_obj = tts.synthesize(\n",
    "            text=row[lang],\n",
    "            voice_name=VOICES[lang]['male'],\n",
    "            speaking_rate=0.75 if lang == 'italian' else 1.0,\n",
    "            pitch=0,\n",
    "            verbose=False,\n",
    "        )\n",
    "        obj[lang]['hash'] = synth_obj['hash']\n",
    "        obj[lang]['audio_file'] = synth_obj['audio_file']\n",
    "        obj[lang]['voice_name'] = synth_obj['voice_name']\n",
    "        obj[lang]['speaking_rate'] = synth_obj['speaking_rate']\n",
    "        obj[lang]['pitch'] = synth_obj['pitch']\n",
    "    for key in row.keys():\n",
    "        if key not in ['english', 'italian']:\n",
    "            if str(row[key]) == 'nan':\n",
    "                obj[key] = \"\"\n",
    "            else:\n",
    "                obj[key] = row[key]\n",
    "\n",
    "    json_obj.append(obj)"
   ]
  },
  {
   "cell_type": "code",
   "execution_count": null,
   "metadata": {},
   "outputs": [],
   "source": [
    "json_obj"
   ]
  },
  {
   "cell_type": "code",
   "execution_count": null,
   "metadata": {},
   "outputs": [],
   "source": [
    "import json\n",
    "json.dump(\n",
    "    json_obj,\n",
    "    open(f\"category_data/step_1/{CATEGORY}_{SUB_CATEGORY}.json\", \"w\"),\n",
    "    indent=2,\n",
    "    ensure_ascii=False,\n",
    ")"
   ]
  },
  {
   "cell_type": "code",
   "execution_count": null,
   "metadata": {},
   "outputs": [],
   "source": []
  },
  {
   "cell_type": "code",
   "execution_count": null,
   "metadata": {},
   "outputs": [],
   "source": [
    "import json\n",
    "import os\n",
    "from pydub import AudioSegment\n",
    "from tqdm import tqdm\n",
    "import yaml"
   ]
  },
  {
   "cell_type": "code",
   "execution_count": null,
   "metadata": {},
   "outputs": [],
   "source": [
    "SILENCE_RATE = 2"
   ]
  },
  {
   "cell_type": "code",
   "execution_count": null,
   "metadata": {},
   "outputs": [],
   "source": [
    "data = json.load(open(f'category_data/step_1/{CATEGORY}_{SUB_CATEGORY}.json'))"
   ]
  },
  {
   "cell_type": "code",
   "execution_count": null,
   "metadata": {},
   "outputs": [],
   "source": [
    "def get_duration(path):\n",
    "    try:\n",
    "        audio = AudioSegment.from_file(path)  # Replace with your file path\n",
    "        duration_seconds = audio.duration_seconds\n",
    "        return duration_seconds\n",
    "    except Exception as e:\n",
    "        print(f\"Error reading audio file: {e}\")\n",
    "        return None"
   ]
  },
  {
   "cell_type": "code",
   "execution_count": null,
   "metadata": {},
   "outputs": [],
   "source": [
    "for sample_i, sample_obj in tqdm(enumerate(data), total=len(data)):\n",
    "    for lang in 'english', 'italian':\n",
    "        path = sample_obj[lang]['audio_file']\n",
    "        assert(os.path.exists(path))\n",
    "        duration = get_duration(path) \n",
    "        data[sample_i][lang]['duration_ms'] = int(duration * 1000)"
   ]
  },
  {
   "cell_type": "code",
   "execution_count": null,
   "metadata": {},
   "outputs": [],
   "source": [
    "def combine_audio_files(input_paths, output_path):\n",
    "    combined_audio = None\n",
    "    for path in input_paths:\n",
    "        if combined_audio is None:\n",
    "            combined_audio = AudioSegment.from_file(path)\n",
    "        else:\n",
    "            combined_audio += AudioSegment.from_file(path)\n",
    "    combined_audio.export(output_path, format=\"mp3\")"
   ]
  },
  {
   "cell_type": "code",
   "execution_count": null,
   "metadata": {},
   "outputs": [],
   "source": [
    "for sample_i, sample_obj in tqdm(enumerate(data), total=len(data)):\n",
    "    english_path = sample_obj['english']['audio_file']\n",
    "    italian_path = sample_obj['italian']['audio_file']\n",
    "    italian_duration = sample_obj['italian']['duration_ms']\n",
    "    silence_duration = int(((italian_duration * SILENCE_RATE) // 100) * 100)\n",
    "    silence_path = f'data/audio/silence/{silence_duration}ms.mp3'\n",
    "    assert os.path.exists(silence_path), f\"Silence file {silence_path} does not exist.\"\n",
    "    combined_audio_path = f'category_data/audio/{CATEGORY}_{SUB_CATEGORY}/{sample_i}.mp3'\n",
    "    os.makedirs(os.path.dirname(combined_audio_path), exist_ok=True)\n",
    "    audio_files = [english_path, silence_path, italian_path, silence_path, italian_path, silence_path]\n",
    "    if not os.path.exists(combined_audio_path):\n",
    "    # if True:\n",
    "        combine_audio_files(audio_files, combined_audio_path)\n",
    "    else:\n",
    "        print(f\"Skipping {combined_audio_path} as it already exists.\")\n",
    "    data[sample_i]['combined_audio_file'] = combined_audio_path"
   ]
  },
  {
   "cell_type": "code",
   "execution_count": null,
   "metadata": {},
   "outputs": [],
   "source": [
    "json.dump(data, open(f\"category_data/step_2/{CATEGORY}_{SUB_CATEGORY}.json\", 'w'), indent=2, ensure_ascii=False)"
   ]
  },
  {
   "cell_type": "code",
   "execution_count": null,
   "metadata": {},
   "outputs": [],
   "source": []
  },
  {
   "cell_type": "code",
   "execution_count": null,
   "metadata": {},
   "outputs": [],
   "source": [
    "import json\n",
    "import os\n",
    "import shutil\n",
    "from tqdm import tqdm\n",
    "import yaml"
   ]
  },
  {
   "cell_type": "code",
   "execution_count": null,
   "metadata": {},
   "outputs": [],
   "source": [
    "REPO_DIR = '/Users/stevie/repos/language_app'\n",
    "assert(os.path.exists(REPO_DIR))\n",
    "\n",
    "DEST_DIR = os.path.join('/Users/stevie/repos/language-app-frontend/assets/category_data', f\"{CATEGORY}_{SUB_CATEGORY}\")\n",
    "os.makedirs(DEST_DIR, exist_ok=True)"
   ]
  },
  {
   "cell_type": "code",
   "execution_count": null,
   "metadata": {},
   "outputs": [],
   "source": [
    "json_path = os.path.join(REPO_DIR, f'category_data/step_2/{CATEGORY}_{SUB_CATEGORY}.json')\n",
    "data = json.load(open(json_path))"
   ]
  },
  {
   "cell_type": "code",
   "execution_count": null,
   "metadata": {},
   "outputs": [],
   "source": [
    "path_rel = data[0]['combined_audio_file']\n",
    "print(path_rel)\n",
    "assert(os.path.exists(os.path.join(REPO_DIR, path_rel)))\n",
    "# print(os.path.join(DEST_DIR, path_rel))"
   ]
  },
  {
   "cell_type": "code",
   "execution_count": null,
   "metadata": {},
   "outputs": [],
   "source": [
    "for sample_i, sample_obj in tqdm(enumerate(data), total=len(data)):\n",
    "    # combined audio file\n",
    "    path = os.path.join(REPO_DIR, sample_obj['combined_audio_file'])\n",
    "    assert(os.path.exists(path))\n",
    "    rel_new_path = f'./audio/combined/{os.path.basename(path)}'\n",
    "    new_path = os.path.join(DEST_DIR, rel_new_path)\n",
    "    os.makedirs(os.path.dirname(new_path), exist_ok=True)\n",
    "    if not os.path.exists(new_path):\n",
    "        shutil.copyfile(path, new_path)\n",
    "    path_str = f'require(\"{rel_new_path}\"):::'\n",
    "    data[sample_i]['combined_audio_file'] = path_str\n",
    "\n",
    "    # individual audio files\n",
    "    for language in 'english', 'italian':\n",
    "        path = os.path.join(REPO_DIR, sample_obj[language]['audio_file'])\n",
    "        assert(os.path.exists(path))\n",
    "        rel_new_path = f'./audio/individual/{os.path.basename(path)}'\n",
    "        new_path = os.path.join(DEST_DIR, rel_new_path)\n",
    "        os.makedirs(os.path.dirname(new_path), exist_ok=True)\n",
    "        if not os.path.exists(new_path):\n",
    "            shutil.copyfile(path, new_path)\n",
    "        path_str = f'require(\"{rel_new_path}\"):::'\n",
    "        data[sample_i][language]['audio_file'] = path_str"
   ]
  },
  {
   "cell_type": "code",
   "execution_count": null,
   "metadata": {},
   "outputs": [],
   "source": [
    "REPO_DIR"
   ]
  },
  {
   "cell_type": "code",
   "execution_count": null,
   "metadata": {},
   "outputs": [],
   "source": [
    "js_path = os.path.join(REPO_DIR, f\"category_data/step_2/{CATEGORY}_{SUB_CATEGORY}.js\")\n",
    "json.dump(data, open(js_path, 'w'), indent=2, ensure_ascii=False)\n",
    "text = open(js_path).read()\n",
    "text = text.replace('\\\\\"', '\"')\n",
    "text = f\"samples = {text}\"\n",
    "text = text.replace('\"require', 'require').replace(':::\"', '')\n",
    "text += ';\\nexport default samples;'\n",
    "open(js_path, 'w').write(text)"
   ]
  },
  {
   "cell_type": "code",
   "execution_count": null,
   "metadata": {},
   "outputs": [],
   "source": [
    "old_js_path = os.path.join(REPO_DIR, f\"category_data/step_2/{CATEGORY}_{SUB_CATEGORY}.js\")\n",
    "new_js_path = os.path.join(DEST_DIR, 'data.js')\n",
    "shutil.copyfile(old_js_path, new_js_path)\n",
    "\n",
    "old_json_path = os.path.join(REPO_DIR, f\"category_data/step_2/{CATEGORY}_{SUB_CATEGORY}.json\")\n",
    "new_json_path = os.path.join(DEST_DIR, 'data.json')\n",
    "shutil.copyfile(old_json_path, new_json_path)"
   ]
  },
  {
   "cell_type": "code",
   "execution_count": null,
   "metadata": {},
   "outputs": [],
   "source": []
  },
  {
   "cell_type": "code",
   "execution_count": null,
   "metadata": {},
   "outputs": [],
   "source": [
    "import os\n",
    "import json\n",
    "import hashlib"
   ]
  },
  {
   "cell_type": "code",
   "execution_count": null,
   "metadata": {},
   "outputs": [],
   "source": [
    "category_dir = '/Users/stevie/repos/language-app-frontend/assets/category_data'\n",
    "for category_sub_category in os.listdir(category_dir):\n",
    "    if not os.path.isdir(os.path.join(category_dir, category_sub_category)):\n",
    "        continue\n",
    "\n",
    "    path = os.path.join(category_dir, category_sub_category, 'data.json')\n",
    "    data = json.load(open(path, 'r'))\n",
    "    print(data)\n",
    "    for item in data:\n",
    "\n",
    "        path = item['combined_audio_file']\n",
    "        path = os.path.join(\n",
    "            f'./{category_sub_category}/audio/combined',\n",
    "            os.path.basename(path)\n",
    "        )\n",
    "        item['combined_audio_file'] = path\n",
    "\n",
    "        param_str = f\"{item['italian']['hash']}_{item['english']['hash']}\"\n",
    "        hash_object = hashlib.sha256(param_str.encode('utf-8'))\n",
    "        hash_key = hash_object.hexdigest()\n",
    "        item['combined_hash'] = hash_key\n",
    "\n",
    "        for lang in 'english', 'italian':\n",
    "            path = item[lang]['audio_file']\n",
    "            path = os.path.join(\n",
    "                f'./{category_sub_category}/audio/individual',\n",
    "                os.path.basename(path)\n",
    "            )\n",
    "            item[lang]['audio_file'] = path\n",
    "\n",
    "    # write the modified data back to the file\n",
    "    with open(os.path.join(category_dir, category_sub_category, 'data.json'), 'w') as f:\n",
    "        json.dump(data, f, indent=2)"
   ]
  },
  {
   "cell_type": "code",
   "execution_count": null,
   "metadata": {},
   "outputs": [],
   "source": [
    "from copy import deepcopy\n",
    "category_sub_category_dir = '/Users/stevie/repos/language-app-frontend/assets/category_data'\n",
    "combined_js = {}\n",
    "combined_json = {}\n",
    "\n",
    "for category_sub_category in sorted(os.listdir(category_sub_category_dir)):\n",
    "    if not os.path.isdir(os.path.join(category_sub_category_dir, category_sub_category)):\n",
    "        continue\n",
    "    path = os.path.join(category_sub_category_dir, category_sub_category, 'data.json')\n",
    "    data = json.load(open(path, 'r'))\n",
    "\n",
    "    combined_json[category_sub_category] = deepcopy(data)\n",
    "\n",
    "    for item in data:\n",
    "        path = item['combined_audio_file']\n",
    "        path_str = f'require(\"{path}\"):::'\n",
    "        item['combined_audio_file'] = path_str\n",
    "        for lang in 'english', 'italian':\n",
    "            path = item[lang]['audio_file']\n",
    "            path_str = f'require(\"{path}\"):::'\n",
    "            item[lang]['audio_file'] = path_str\n",
    "    combined_js[category_sub_category] = data"
   ]
  },
  {
   "cell_type": "code",
   "execution_count": null,
   "metadata": {},
   "outputs": [],
   "source": [
    "category_sub_category_dir = '/Users/stevie/repos/language-app-frontend/assets/category_data'\n",
    "# write the combined data to a new file\n",
    "path = os.path.join(category_sub_category_dir, 'combined_data.js')\n",
    "with open(path, 'w') as f:\n",
    "    json.dump(combined_js, f, indent=2)\n",
    "\n",
    "# write the combined data to a new file\n",
    "path = os.path.join(category_sub_category_dir, 'combined_data.json')\n",
    "with open(path, 'w') as f:\n",
    "    json.dump(combined_json, f, indent=2)"
   ]
  },
  {
   "cell_type": "code",
   "execution_count": null,
   "metadata": {},
   "outputs": [],
   "source": [
    "category_sub_category_dir = '/Users/stevie/repos/language-app-frontend/assets/category_data'\n",
    "path = os.path.join(category_sub_category_dir, 'combined_data.js')\n",
    "text = open(path).read()\n",
    "text = text.replace('\\\\\"', '\"')\n",
    "text = f\"samples = {text}\"\n",
    "text = text.replace('\"require', 'require').replace(':::\"', '')\n",
    "text += ';\\nexport default samples;'\n",
    "open(path, 'w').write(text)"
   ]
  },
  {
   "cell_type": "code",
   "execution_count": null,
   "metadata": {},
   "outputs": [],
   "source": []
  }
 ],
 "metadata": {
  "kernelspec": {
   "display_name": "venv",
   "language": "python",
   "name": "python3"
  },
  "language_info": {
   "codemirror_mode": {
    "name": "ipython",
    "version": 3
   },
   "file_extension": ".py",
   "mimetype": "text/x-python",
   "name": "python",
   "nbconvert_exporter": "python",
   "pygments_lexer": "ipython3",
   "version": "3.9.6"
  }
 },
 "nbformat": 4,
 "nbformat_minor": 2
}
