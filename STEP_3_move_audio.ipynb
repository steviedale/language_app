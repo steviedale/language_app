{
 "cells": [
  {
   "cell_type": "code",
   "execution_count": 1,
   "metadata": {},
   "outputs": [],
   "source": [
    "import json\n",
    "import os\n",
    "import shutil\n",
    "from tqdm import tqdm\n",
    "import yaml"
   ]
  },
  {
   "cell_type": "code",
   "execution_count": 2,
   "metadata": {},
   "outputs": [
    {
     "name": "stdout",
     "output_type": "stream",
     "text": [
      "lesson_13_at_the_restaurant\n"
     ]
    }
   ],
   "source": [
    "LESSON = yaml.safe_load(open(\"STEP_0_define_lesson.yaml\", \"r\"))['lesson']\n",
    "print(LESSON)"
   ]
  },
  {
   "cell_type": "code",
   "execution_count": 3,
   "metadata": {},
   "outputs": [],
   "source": [
    "REPO_DIR = '/Users/stevie/repos/language_app'\n",
    "assert(os.path.exists(REPO_DIR))\n",
    "\n",
    "DEST_DIR = os.path.join('/Users/stevie/repos/language-app-frontend/assets/lessons', LESSON)\n",
    "if not os.path.exists(DEST_DIR):\n",
    "    os.mkdir(DEST_DIR)"
   ]
  },
  {
   "cell_type": "code",
   "execution_count": 4,
   "metadata": {},
   "outputs": [],
   "source": [
    "json_path = os.path.join(REPO_DIR, f'language_notes/spotify_lesssons/{LESSON}/data.json')\n",
    "data = json.load(open(json_path))"
   ]
  },
  {
   "cell_type": "code",
   "execution_count": 5,
   "metadata": {},
   "outputs": [
    {
     "name": "stdout",
     "output_type": "stream",
     "text": [
      "language_notes/spotify_lesssons/lesson_13_at_the_restaurant/audio/0.mp3\n"
     ]
    }
   ],
   "source": [
    "path_rel = data[0]['combined_audio_file']\n",
    "assert(os.path.exists(os.path.join(REPO_DIR, path_rel)))\n",
    "# print(os.path.join(DEST_DIR, path_rel))\n",
    "print(path_rel)"
   ]
  },
  {
   "cell_type": "code",
   "execution_count": 6,
   "metadata": {},
   "outputs": [
    {
     "name": "stderr",
     "output_type": "stream",
     "text": [
      "100%|██████████| 33/33 [00:00<00:00, 2305.45it/s]\n"
     ]
    }
   ],
   "source": [
    "for sample_i, sample_obj in tqdm(enumerate(data), total=len(data)):\n",
    "    # combined audio file\n",
    "    path = os.path.join(REPO_DIR, sample_obj['combined_audio_file'])\n",
    "    assert(os.path.exists(path))\n",
    "    rel_new_path = f'./audio/combined/{os.path.basename(path)}'\n",
    "    new_path = os.path.join(DEST_DIR, rel_new_path)\n",
    "    os.makedirs(os.path.dirname(new_path), exist_ok=True)\n",
    "    if not os.path.exists(new_path):\n",
    "        shutil.copyfile(path, new_path)\n",
    "    path_str = f'require(\"{rel_new_path}\"):::'\n",
    "    data[sample_i]['combined_audio_file'] = path_str\n",
    "\n",
    "    # individual audio files\n",
    "    for language in 'english', 'italian':\n",
    "        path = os.path.join(REPO_DIR, sample_obj[language]['audio_file'])\n",
    "        assert(os.path.exists(path))\n",
    "        rel_new_path = f'./audio/individual/{os.path.basename(path)}'\n",
    "        new_path = os.path.join(DEST_DIR, rel_new_path)\n",
    "        os.makedirs(os.path.dirname(new_path), exist_ok=True)\n",
    "        if not os.path.exists(new_path):\n",
    "            shutil.copyfile(path, new_path)\n",
    "        path_str = f'require(\"{rel_new_path}\"):::'\n",
    "        data[sample_i][language]['audio_file'] = path_str"
   ]
  },
  {
   "cell_type": "code",
   "execution_count": 7,
   "metadata": {},
   "outputs": [
    {
     "data": {
      "text/plain": [
       "26748"
      ]
     },
     "execution_count": 7,
     "metadata": {},
     "output_type": "execute_result"
    }
   ],
   "source": [
    "js_path = os.path.join(REPO_DIR, f'language_notes/spotify_lesssons/{LESSON}/data.js')\n",
    "json.dump(data, open(js_path, 'w'), indent=2, ensure_ascii=False)\n",
    "text = open(js_path).read()\n",
    "text = text.replace('\\\\\"', '\"')\n",
    "text = f\"samples = {text}\"\n",
    "text = text.replace('\"require', 'require').replace(':::\"', '')\n",
    "text += ';\\nexport default samples;'\n",
    "open(js_path, 'w').write(text)"
   ]
  },
  {
   "cell_type": "code",
   "execution_count": 8,
   "metadata": {},
   "outputs": [
    {
     "data": {
      "text/plain": [
       "'/Users/stevie/repos/language-app-frontend/assets/lessons/lesson_13_at_the_restaurant/transcript.csv'"
      ]
     },
     "execution_count": 8,
     "metadata": {},
     "output_type": "execute_result"
    }
   ],
   "source": [
    "old_js_path = os.path.join(REPO_DIR, f'language_notes/spotify_lesssons/{LESSON}/data.js')\n",
    "new_js_path = os.path.join(DEST_DIR, 'data.js')\n",
    "shutil.copyfile(old_js_path, new_js_path)\n",
    "\n",
    "old_json_path = os.path.join(REPO_DIR, f'language_notes/spotify_lesssons/{LESSON}/data.json')\n",
    "new_json_path = os.path.join(DEST_DIR, 'data.json')\n",
    "shutil.copyfile(old_json_path, new_json_path)\n",
    "\n",
    "old_csv_path = os.path.join(REPO_DIR, f'language_notes/spotify_lesssons/{LESSON}/transcript.csv')\n",
    "new_csv_path = os.path.join(DEST_DIR, 'transcript.csv')\n",
    "shutil.copyfile(old_csv_path, new_csv_path)"
   ]
  },
  {
   "cell_type": "code",
   "execution_count": null,
   "metadata": {},
   "outputs": [],
   "source": []
  }
 ],
 "metadata": {
  "kernelspec": {
   "display_name": "venv",
   "language": "python",
   "name": "python3"
  },
  "language_info": {
   "codemirror_mode": {
    "name": "ipython",
    "version": 3
   },
   "file_extension": ".py",
   "mimetype": "text/x-python",
   "name": "python",
   "nbconvert_exporter": "python",
   "pygments_lexer": "ipython3",
   "version": "3.9.6"
  }
 },
 "nbformat": 4,
 "nbformat_minor": 2
}
