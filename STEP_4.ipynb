{
 "cells": [
  {
   "cell_type": "code",
   "execution_count": null,
   "metadata": {},
   "outputs": [],
   "source": [
    "import os\n",
    "import json"
   ]
  },
  {
   "cell_type": "code",
   "execution_count": null,
   "metadata": {},
   "outputs": [],
   "source": [
    "lessons_dir = '/Users/stevie/repos/language-app-frontend/assets/lessons'\n",
    "for lesson in os.listdir(lessons_dir):\n",
    "    if not os.path.isdir(os.path.join(lessons_dir, lesson)):\n",
    "        continue\n",
    "    assert('lesson' in lesson)\n",
    "\n",
    "    path = os.path.join(lessons_dir, lesson, 'data.json')\n",
    "    data = json.load(open(path, 'r'))\n",
    "    print(data)\n",
    "    for item in data:\n",
    "\n",
    "        path = item['combined_audio_file']\n",
    "        path = os.path.join(\n",
    "            f'./{lesson}/audio/combined',\n",
    "            os.path.basename(path)\n",
    "        )\n",
    "        item['combined_audio_file'] = path\n",
    "\n",
    "        for lang in 'english', 'italian':\n",
    "            path = item[lang]['audio_file']\n",
    "            path = os.path.join(\n",
    "                f'./{lesson}/audio/individual',\n",
    "                os.path.basename(path)\n",
    "            )\n",
    "            item[lang]['audio_file'] = path\n",
    "\n",
    "    # write the modified data back to the file\n",
    "    with open(os.path.join(lessons_dir, lesson, 'data.json'), 'w') as f:\n",
    "        json.dump(data, f, indent=2)"
   ]
  },
  {
   "cell_type": "code",
   "execution_count": null,
   "metadata": {},
   "outputs": [],
   "source": [
    "lessons_dir = '/Users/stevie/repos/language-app-frontend/assets/lessons'\n",
    "combined = {}\n",
    "def sort_lessons(lessons):\n",
    "    lessons = [x for x in lessons if 'lesson' in x and os.path.isdir(os.path.join(lessons_dir, x))]\n",
    "    return sorted(lessons, key=lambda x: int(x.split('_')[1]))\n",
    "for lesson in sort_lessons(os.listdir(lessons_dir)):\n",
    "    if not os.path.isdir(os.path.join(lessons_dir, lesson)):\n",
    "        continue\n",
    "    assert('lesson' in lesson)\n",
    "    path = os.path.join(lessons_dir, lesson, 'data.json')\n",
    "    data = json.load(open(path, 'r'))\n",
    "\n",
    "    for item in data:\n",
    "        path = item['combined_audio_file']\n",
    "        path_str = f'require(\"{path}\"):::'\n",
    "        item['combined_audio_file'] = path_str\n",
    "        for lang in 'english', 'italian':\n",
    "            path = item[lang]['audio_file']\n",
    "            path_str = f'require(\"{path}\"):::'\n",
    "            item[lang]['audio_file'] = path_str\n",
    "    combined[lesson] = data"
   ]
  },
  {
   "cell_type": "code",
   "execution_count": null,
   "metadata": {},
   "outputs": [],
   "source": [
    "lessons_dir = '/Users/stevie/repos/language-app-frontend/assets/lessons'\n",
    "# write the combined data to a new file\n",
    "path = os.path.join(lessons_dir, 'combined_data.js')\n",
    "with open(path, 'w') as f:\n",
    "    json.dump(combined, f, indent=2)"
   ]
  },
  {
   "cell_type": "code",
   "execution_count": null,
   "metadata": {},
   "outputs": [],
   "source": [
    "lessons_dir = '/Users/stevie/repos/language-app-frontend/assets/lessons'\n",
    "path = os.path.join(lessons_dir, 'combined_data.js')\n",
    "text = open(path).read()\n",
    "text = text.replace('\\\\\"', '\"')\n",
    "text = f\"samples = {text}\"\n",
    "text = text.replace('\"require', 'require').replace(':::\"', '')\n",
    "text += ';\\nexport default samples;'\n",
    "open(path, 'w').write(text)"
   ]
  },
  {
   "cell_type": "code",
   "execution_count": null,
   "metadata": {},
   "outputs": [],
   "source": []
  }
 ],
 "metadata": {
  "kernelspec": {
   "display_name": "venv",
   "language": "python",
   "name": "python3"
  },
  "language_info": {
   "codemirror_mode": {
    "name": "ipython",
    "version": 3
   },
   "file_extension": ".py",
   "mimetype": "text/x-python",
   "name": "python",
   "nbconvert_exporter": "python",
   "pygments_lexer": "ipython3",
   "version": "3.9.6"
  }
 },
 "nbformat": 4,
 "nbformat_minor": 2
}
