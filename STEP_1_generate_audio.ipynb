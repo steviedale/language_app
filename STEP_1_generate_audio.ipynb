{
 "cells": [
  {
   "cell_type": "code",
   "execution_count": null,
   "metadata": {},
   "outputs": [],
   "source": [
    "from utils.text_to_speech import TextToSpeech, VOICES\n",
    "import os\n",
    "import pandas as pd\n",
    "from tqdm import tqdm\n",
    "import yaml"
   ]
  },
  {
   "cell_type": "code",
   "execution_count": null,
   "metadata": {},
   "outputs": [],
   "source": [
    "CATEGORY = yaml.safe_load(open(\"STEP_0_define_category_sub_category.yaml\", \"r\"))['category']\n",
    "SUB_CATEGORY = yaml.safe_load(open(\"STEP_0_define_category_sub_category.yaml\", \"r\"))['sub_category']\n",
    "print(f\"Category: {CATEGORY}\")\n",
    "print(f\"Sub Category: {SUB_CATEGORY}\")"
   ]
  },
  {
   "cell_type": "code",
   "execution_count": null,
   "metadata": {},
   "outputs": [],
   "source": [
    "# first create a dataframe for the text\n",
    "df = pd.read_csv(f\"category_data/individual_dataframes/{CATEGORY}_{SUB_CATEGORY}.csv\")"
   ]
  },
  {
   "cell_type": "code",
   "execution_count": null,
   "metadata": {},
   "outputs": [],
   "source": [
    "len(df), df.columns"
   ]
  },
  {
   "cell_type": "code",
   "execution_count": null,
   "metadata": {},
   "outputs": [],
   "source": [
    "tts = TextToSpeech()"
   ]
  },
  {
   "cell_type": "code",
   "execution_count": null,
   "metadata": {},
   "outputs": [],
   "source": [
    "json_obj = []\n",
    "for i, row in tqdm(df.iterrows(), total=len(df)):\n",
    "    obj = {}\n",
    "    for lang in 'english', 'italian':\n",
    "        obj[lang] = {\n",
    "            \"text\": row[lang],\n",
    "        }\n",
    "        synth_obj = tts.synthesize(\n",
    "            text=row[lang],\n",
    "            voice_name=VOICES[lang]['male'],\n",
    "            speaking_rate=0.75 if lang == 'italian' else 1.0,\n",
    "            pitch=0,\n",
    "            verbose=False,\n",
    "        )\n",
    "        obj[lang]['hash'] = synth_obj['hash']\n",
    "        obj[lang]['audio_file'] = synth_obj['audio_file']\n",
    "        obj[lang]['voice_name'] = synth_obj['voice_name']\n",
    "        obj[lang]['speaking_rate'] = synth_obj['speaking_rate']\n",
    "        obj[lang]['pitch'] = synth_obj['pitch']\n",
    "    for key in row.keys():\n",
    "        if key not in ['english', 'italian']:\n",
    "            if str(row[key]) == 'nan':\n",
    "                obj[key] = \"\"\n",
    "            else:\n",
    "                obj[key] = row[key]\n",
    "\n",
    "    json_obj.append(obj)"
   ]
  },
  {
   "cell_type": "code",
   "execution_count": null,
   "metadata": {},
   "outputs": [],
   "source": [
    "json_obj"
   ]
  },
  {
   "cell_type": "code",
   "execution_count": null,
   "metadata": {},
   "outputs": [],
   "source": [
    "import json\n",
    "json.dump(\n",
    "    json_obj,\n",
    "    open(f\"category_data/step_1/{CATEGORY}_{SUB_CATEGORY}.json\", \"w\"),\n",
    "    indent=2,\n",
    "    ensure_ascii=False,\n",
    ")"
   ]
  },
  {
   "cell_type": "code",
   "execution_count": null,
   "metadata": {},
   "outputs": [],
   "source": []
  }
 ],
 "metadata": {
  "kernelspec": {
   "display_name": "venv",
   "language": "python",
   "name": "python3"
  },
  "language_info": {
   "codemirror_mode": {
    "name": "ipython",
    "version": 3
   },
   "file_extension": ".py",
   "mimetype": "text/x-python",
   "name": "python",
   "nbconvert_exporter": "python",
   "pygments_lexer": "ipython3",
   "version": "3.9.6"
  }
 },
 "nbformat": 4,
 "nbformat_minor": 2
}
