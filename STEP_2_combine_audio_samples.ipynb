{
 "cells": [
  {
   "cell_type": "code",
   "execution_count": null,
   "metadata": {},
   "outputs": [],
   "source": [
    "import json\n",
    "import os\n",
    "from pydub import AudioSegment\n",
    "from tqdm import tqdm\n",
    "import yaml"
   ]
  },
  {
   "cell_type": "code",
   "execution_count": null,
   "metadata": {},
   "outputs": [],
   "source": [
    "SILENCE_RATE = 2\n",
    "\n",
    "CATEGORY = yaml.safe_load(open(\"STEP_0_define_category_sub_category.yaml\", \"r\"))['category']\n",
    "SUB_CATEGORY = yaml.safe_load(open(\"STEP_0_define_category_sub_category.yaml\", \"r\"))['sub_category']\n",
    "print(f\"Category: {CATEGORY}\")\n",
    "print(f\"Sub Category: {SUB_CATEGORY}\")"
   ]
  },
  {
   "cell_type": "code",
   "execution_count": null,
   "metadata": {},
   "outputs": [],
   "source": [
    "data = json.load(open(f'category_data/step_1/{CATEGORY}_{SUB_CATEGORY}.json'))"
   ]
  },
  {
   "cell_type": "code",
   "execution_count": null,
   "metadata": {},
   "outputs": [],
   "source": [
    "def get_duration(path):\n",
    "    try:\n",
    "        audio = AudioSegment.from_file(path)  # Replace with your file path\n",
    "        duration_seconds = audio.duration_seconds\n",
    "        return duration_seconds\n",
    "    except Exception as e:\n",
    "        print(f\"Error reading audio file: {e}\")\n",
    "        return None"
   ]
  },
  {
   "cell_type": "code",
   "execution_count": null,
   "metadata": {},
   "outputs": [],
   "source": [
    "for sample_i, sample_obj in tqdm(enumerate(data), total=len(data)):\n",
    "    for lang in 'english', 'italian':\n",
    "        path = sample_obj[lang]['audio_file']\n",
    "        assert(os.path.exists(path))\n",
    "        duration = get_duration(path) \n",
    "        data[sample_i][lang]['duration_ms'] = int(duration * 1000)"
   ]
  },
  {
   "cell_type": "code",
   "execution_count": null,
   "metadata": {},
   "outputs": [],
   "source": [
    "def combine_audio_files(input_paths, output_path):\n",
    "    combined_audio = None\n",
    "    for path in input_paths:\n",
    "        if combined_audio is None:\n",
    "            combined_audio = AudioSegment.from_file(path)\n",
    "        else:\n",
    "            combined_audio += AudioSegment.from_file(path)\n",
    "    combined_audio.export(output_path, format=\"mp3\")"
   ]
  },
  {
   "cell_type": "code",
   "execution_count": null,
   "metadata": {},
   "outputs": [],
   "source": [
    "for sample_i, sample_obj in tqdm(enumerate(data), total=len(data)):\n",
    "    english_path = sample_obj['english']['audio_file']\n",
    "    italian_path = sample_obj['italian']['audio_file']\n",
    "    italian_duration = sample_obj['italian']['duration_ms']\n",
    "    silence_duration = int(((italian_duration * SILENCE_RATE) // 100) * 100)\n",
    "    silence_path = f'data/audio/silence/{silence_duration}ms.mp3'\n",
    "    assert os.path.exists(silence_path), f\"Silence file {silence_path} does not exist.\"\n",
    "    combined_audio_path = f'category_data/audio/{CATEGORY}_{SUB_CATEGORY}/{sample_i}.mp3'\n",
    "    os.makedirs(os.path.dirname(combined_audio_path), exist_ok=True)\n",
    "    audio_files = [english_path, silence_path, italian_path, silence_path, italian_path, silence_path]\n",
    "    if not os.path.exists(combined_audio_path):\n",
    "    # if True:\n",
    "        combine_audio_files(audio_files, combined_audio_path)\n",
    "    else:\n",
    "        print(f\"Skipping {combined_audio_path} as it already exists.\")\n",
    "    data[sample_i]['combined_audio_file'] = combined_audio_path"
   ]
  },
  {
   "cell_type": "code",
   "execution_count": null,
   "metadata": {},
   "outputs": [],
   "source": [
    "json.dump(data, open(f\"category_data/step_2/{CATEGORY}_{SUB_CATEGORY}.json\", 'w'), indent=2, ensure_ascii=False)"
   ]
  },
  {
   "cell_type": "code",
   "execution_count": null,
   "metadata": {},
   "outputs": [],
   "source": []
  }
 ],
 "metadata": {
  "kernelspec": {
   "display_name": "venv",
   "language": "python",
   "name": "python3"
  },
  "language_info": {
   "codemirror_mode": {
    "name": "ipython",
    "version": 3
   },
   "file_extension": ".py",
   "mimetype": "text/x-python",
   "name": "python",
   "nbconvert_exporter": "python",
   "pygments_lexer": "ipython3",
   "version": "3.9.6"
  }
 },
 "nbformat": 4,
 "nbformat_minor": 2
}
